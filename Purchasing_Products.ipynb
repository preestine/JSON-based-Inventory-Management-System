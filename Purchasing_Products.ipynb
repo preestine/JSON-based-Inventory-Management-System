{
  "nbformat": 4,
  "nbformat_minor": 0,
  "metadata": {
    "colab": {
      "name": "Purchasing-Products",
      "provenance": []
    },
    "kernelspec": {
      "name": "python3",
      "display_name": "Python 3"
    },
    "language_info": {
      "name": "python"
    }
  },
  "cells": [
    {
      "cell_type": "markdown",
      "metadata": {
        "id": "_8fbphlKKxqt"
      },
      "source": [
        "# Read Inventory"
      ]
    },
    {
      "cell_type": "code",
      "metadata": {
        "id": "zkevHux7K-yS"
      },
      "source": [
        "import json\n",
        "import time as t\n",
        "\n",
        "fd = open(\"Records.json\",'r')\n",
        "r = fd.read()\n",
        "fd.close()\n",
        "\n",
        "records = json.loads(r)\n",
        "\n"
      ],
      "execution_count": null,
      "outputs": []
    },
    {
      "cell_type": "code",
      "metadata": {
        "colab": {
          "base_uri": "https://localhost:8080/"
        },
        "id": "_U-FQ0poK-5x",
        "outputId": "a0c4caeb-bfe9-40ba-e91d-898ab82cf71d"
      },
      "source": [
        "records"
      ],
      "execution_count": null,
      "outputs": [
        {
          "output_type": "execute_result",
          "data": {
            "text/plain": [
              "{'1001': {'Discount%': 0.5,\n",
              "  'Name': 'Dairy Milk',\n",
              "  'Price': 10,\n",
              "  'Purchase_Year': 2021,\n",
              "  'Quantity': 258},\n",
              " '1002': {'Discount%': 6.7,\n",
              "  'Name': 'Cadbury Silk',\n",
              "  'Price': 60,\n",
              "  'Purchase_Year': 2021,\n",
              "  'Quantity': 81},\n",
              " '1003': {'Discount%': 5.5,\n",
              "  'Name': '5 Star',\n",
              "  'Price': 25,\n",
              "  'Purchase_Year': 2021,\n",
              "  'Quantity': 19},\n",
              " '1004': {'Discount%': 1.4,\n",
              "  'Name': 'Perk',\n",
              "  'Price': 5,\n",
              "  'Purchase_Year': 2021,\n",
              "  'Quantity': 66},\n",
              " '1005': {'Discount%': 2.6,\n",
              "  'Name': 'Kit-Kat',\n",
              "  'Price': 30,\n",
              "  'Purchase_Year': 2021,\n",
              "  'Quantity': 91},\n",
              " '1006': {'Discount%': 3.3,\n",
              "  'Name': 'Milky Bar',\n",
              "  'Price': 20,\n",
              "  'Purchase_Year': 2021,\n",
              "  'Quantity': 252},\n",
              " '1007': {'Discount%': 7.9,\n",
              "  'Name': 'Bar-one',\n",
              "  'Price': 40,\n",
              "  'Purchase_Year': 2021,\n",
              "  'Quantity': 252},\n",
              " '1008': {'Discount%': 9.9,\n",
              "  'Name': 'Munch',\n",
              "  'Price': 5,\n",
              "  'Purchase_Year': 2021,\n",
              "  'Quantity': 99},\n",
              " '1009': {'Discount%': 9.0,\n",
              "  'Name': 'Ferrero Rocher',\n",
              "  'Price': 240,\n",
              "  'Purchase_Year': 2021,\n",
              "  'Quantity': 163},\n",
              " '1010': {'Discount%': 8.8,\n",
              "  'Name': 'Galaxy',\n",
              "  'Price': 40,\n",
              "  'Purchase_Year': 2021,\n",
              "  'Quantity': 97},\n",
              " '1011': {'Discount%': 7.1,\n",
              "  'Name': 'Snickers',\n",
              "  'Price': 30,\n",
              "  'Purchase_Year': 2021,\n",
              "  'Quantity': 282},\n",
              " '1012': {'Discount%': 3.4,\n",
              "  'Name': 'Toblerone',\n",
              "  'Price': 200,\n",
              "  'Purchase_Year': 2021,\n",
              "  'Quantity': 217},\n",
              " '1013': {'Discount%': 9.8,\n",
              "  'Name': \"Hershey's Syrup\",\n",
              "  'Price': 220,\n",
              "  'Purchase_Year': 2021,\n",
              "  'Quantity': 97},\n",
              " '1014': {'Discount%': 7.1,\n",
              "  'Name': 'Amul Dark Chocolate',\n",
              "  'Price': 90,\n",
              "  'Purchase_Year': 2021,\n",
              "  'Quantity': 116},\n",
              " '1015': {'Discount%': 3.7,\n",
              "  'Name': 'Lotte Choco Pie',\n",
              "  'Price': 15,\n",
              "  'Purchase_Year': 2021,\n",
              "  'Quantity': 54},\n",
              " '1016': {'Discount%': 3.3,\n",
              "  'Name': 'Cadbury Fuse',\n",
              "  'Price': 30,\n",
              "  'Purchase_Year': 2021,\n",
              "  'Quantity': 295},\n",
              " '1017': {'Discount%': 6.9,\n",
              "  'Name': \"Hershey's Milk Chocolate\",\n",
              "  'Price': 150,\n",
              "  'Purchase_Year': 2021,\n",
              "  'Quantity': 126},\n",
              " '1018': {'Discount%': 5.6,\n",
              "  'Name': 'Bourbon Biscuit',\n",
              "  'Price': 30,\n",
              "  'Purchase_Year': 2021,\n",
              "  'Quantity': 79},\n",
              " '1019': {'Discount%': 5.9,\n",
              "  'Name': 'Oreo Biscuit',\n",
              "  'Price': 30,\n",
              "  'Purchase_Year': 2021,\n",
              "  'Quantity': 166},\n",
              " '1020': {'Discount%': 1.7,\n",
              "  'Name': 'Jim-Jam Biscuit',\n",
              "  'Price': 30,\n",
              "  'Purchase_Year': 2021,\n",
              "  'Quantity': 117},\n",
              " '1021': {'Discount%': 3.3,\n",
              "  'Name': 'Hide & Seek',\n",
              "  'Price': 40,\n",
              "  'Purchase_Year': 2021,\n",
              "  'Quantity': 99},\n",
              " '1022': {'Discount%': 3.7,\n",
              "  'Name': 'Dark Fantasy',\n",
              "  'Price': 50,\n",
              "  'Purchase_Year': 2021,\n",
              "  'Quantity': 77},\n",
              " '1023': {'Discount%': 2.2,\n",
              "  'Name': 'Blue Lays',\n",
              "  'Price': 20,\n",
              "  'Purchase_Year': 2021,\n",
              "  'Quantity': 67},\n",
              " '1024': {'Discount%': 9.2,\n",
              "  'Name': 'Green Lays',\n",
              "  'Price': 20,\n",
              "  'Purchase_Year': 2021,\n",
              "  'Quantity': 200},\n",
              " '1025': {'Discount%': 9.5,\n",
              "  'Name': 'Uncle Chips',\n",
              "  'Price': 25,\n",
              "  'Purchase_Year': 2021,\n",
              "  'Quantity': 108},\n",
              " '1026': {'Discount%': 8.7,\n",
              "  'Name': 'Kinder Joy',\n",
              "  'Price': 40,\n",
              "  'Purchase_Year': 2021,\n",
              "  'Quantity': 236},\n",
              " '1027': {'Discount%': 7.8,\n",
              "  'Name': 'Fun Stix',\n",
              "  'Price': 20,\n",
              "  'Purchase_Year': 2021,\n",
              "  'Quantity': 108},\n",
              " '1028': {'Discount%': 2.3,\n",
              "  'Name': 'Pringles',\n",
              "  'Price': 130,\n",
              "  'Purchase_Year': 2021,\n",
              "  'Quantity': 40},\n",
              " '1029': {'Discount%': 8.9,\n",
              "  'Name': 'Kurkure',\n",
              "  'Price': 25,\n",
              "  'Purchase_Year': 2021,\n",
              "  'Quantity': 97},\n",
              " '1030': {'Discount%': 4.9,\n",
              "  'Name': 'Mad Angles',\n",
              "  'Price': 30,\n",
              "  'Purchase_Year': 2021,\n",
              "  'Quantity': 54}}"
            ]
          },
          "metadata": {},
          "execution_count": 5
        }
      ]
    },
    {
      "cell_type": "markdown",
      "metadata": {
        "id": "ihiwC8YJUK7a"
      },
      "source": [
        "# Purchasing a Product"
      ]
    },
    {
      "cell_type": "code",
      "metadata": {
        "colab": {
          "base_uri": "https://localhost:8080/"
        },
        "id": "5XoJLm2PK-8S",
        "outputId": "62e7d218-63cd-426f-a0b7-e346e9c5452b"
      },
      "source": [
        "ui_prod  = str(input(\"Enter the product_Id: \"))\n",
        "ui_quant = int(input(\"Enter the quantity: \"))\n",
        "\n",
        "print(\"***********************\")\n",
        "print(\"Product: \", records[ui_prod]['Name'])\n",
        "print(\"Price: \", records[ui_prod]['Price'])\n",
        "print(\"------------------------\")\n",
        "print(\"Billing Amount: \", records[ui_prod]['Price'] * ui_quant)\n",
        "print(\"***********************\")\n",
        "\n",
        "\n",
        "\n",
        "records[ui_prod]['Quantity'] = records[ui_prod]['Quantity'] - ui_quant"
      ],
      "execution_count": null,
      "outputs": [
        {
          "output_type": "stream",
          "name": "stdout",
          "text": [
            "Enter the product_Id: 1005\n",
            "Enter the quantity: 6\n",
            "***********************\n",
            "Product:  Kit-Kat\n",
            "Price:  30\n",
            "------------------------\n",
            "Billing Amount:  180\n",
            "***********************\n"
          ]
        }
      ]
    },
    {
      "cell_type": "markdown",
      "metadata": {
        "id": "ZiQ_UtvZU1JR"
      },
      "source": [
        "# Updating Inventory after Purchasing"
      ]
    },
    {
      "cell_type": "code",
      "metadata": {
        "id": "Qgo9y0BvK--i"
      },
      "source": [
        "js = json.dumps(records)\n",
        "\n",
        "fd = open(\"Records.json\",'w')\n",
        "fd.write(js)\n",
        "fd.close()"
      ],
      "execution_count": null,
      "outputs": []
    },
    {
      "cell_type": "code",
      "metadata": {
        "colab": {
          "base_uri": "https://localhost:8080/"
        },
        "id": "fp2mS5EbK_BF",
        "outputId": "7c2b9b68-b330-4780-9e22-0eb77c539de1"
      },
      "source": [
        "records"
      ],
      "execution_count": null,
      "outputs": [
        {
          "output_type": "execute_result",
          "data": {
            "text/plain": [
              "{'1001': {'Discount%': 0.5,\n",
              "  'Name': 'Dairy Milk',\n",
              "  'Price': 10,\n",
              "  'Purchase_Year': 2021,\n",
              "  'Quantity': 258},\n",
              " '1002': {'Discount%': 6.7,\n",
              "  'Name': 'Cadbury Silk',\n",
              "  'Price': 60,\n",
              "  'Purchase_Year': 2021,\n",
              "  'Quantity': 81},\n",
              " '1003': {'Discount%': 5.5,\n",
              "  'Name': '5 Star',\n",
              "  'Price': 25,\n",
              "  'Purchase_Year': 2021,\n",
              "  'Quantity': 19},\n",
              " '1004': {'Discount%': 1.4,\n",
              "  'Name': 'Perk',\n",
              "  'Price': 5,\n",
              "  'Purchase_Year': 2021,\n",
              "  'Quantity': 66},\n",
              " '1005': {'Discount%': 2.6,\n",
              "  'Name': 'Kit-Kat',\n",
              "  'Price': 30,\n",
              "  'Purchase_Year': 2021,\n",
              "  'Quantity': 85},\n",
              " '1006': {'Discount%': 3.3,\n",
              "  'Name': 'Milky Bar',\n",
              "  'Price': 20,\n",
              "  'Purchase_Year': 2021,\n",
              "  'Quantity': 252},\n",
              " '1007': {'Discount%': 7.9,\n",
              "  'Name': 'Bar-one',\n",
              "  'Price': 40,\n",
              "  'Purchase_Year': 2021,\n",
              "  'Quantity': 252},\n",
              " '1008': {'Discount%': 9.9,\n",
              "  'Name': 'Munch',\n",
              "  'Price': 5,\n",
              "  'Purchase_Year': 2021,\n",
              "  'Quantity': 99},\n",
              " '1009': {'Discount%': 9.0,\n",
              "  'Name': 'Ferrero Rocher',\n",
              "  'Price': 240,\n",
              "  'Purchase_Year': 2021,\n",
              "  'Quantity': 163},\n",
              " '1010': {'Discount%': 8.8,\n",
              "  'Name': 'Galaxy',\n",
              "  'Price': 40,\n",
              "  'Purchase_Year': 2021,\n",
              "  'Quantity': 97},\n",
              " '1011': {'Discount%': 7.1,\n",
              "  'Name': 'Snickers',\n",
              "  'Price': 30,\n",
              "  'Purchase_Year': 2021,\n",
              "  'Quantity': 282},\n",
              " '1012': {'Discount%': 3.4,\n",
              "  'Name': 'Toblerone',\n",
              "  'Price': 200,\n",
              "  'Purchase_Year': 2021,\n",
              "  'Quantity': 217},\n",
              " '1013': {'Discount%': 9.8,\n",
              "  'Name': \"Hershey's Syrup\",\n",
              "  'Price': 220,\n",
              "  'Purchase_Year': 2021,\n",
              "  'Quantity': 97},\n",
              " '1014': {'Discount%': 7.1,\n",
              "  'Name': 'Amul Dark Chocolate',\n",
              "  'Price': 90,\n",
              "  'Purchase_Year': 2021,\n",
              "  'Quantity': 116},\n",
              " '1015': {'Discount%': 3.7,\n",
              "  'Name': 'Lotte Choco Pie',\n",
              "  'Price': 15,\n",
              "  'Purchase_Year': 2021,\n",
              "  'Quantity': 54},\n",
              " '1016': {'Discount%': 3.3,\n",
              "  'Name': 'Cadbury Fuse',\n",
              "  'Price': 30,\n",
              "  'Purchase_Year': 2021,\n",
              "  'Quantity': 295},\n",
              " '1017': {'Discount%': 6.9,\n",
              "  'Name': \"Hershey's Milk Chocolate\",\n",
              "  'Price': 150,\n",
              "  'Purchase_Year': 2021,\n",
              "  'Quantity': 126},\n",
              " '1018': {'Discount%': 5.6,\n",
              "  'Name': 'Bourbon Biscuit',\n",
              "  'Price': 30,\n",
              "  'Purchase_Year': 2021,\n",
              "  'Quantity': 79},\n",
              " '1019': {'Discount%': 5.9,\n",
              "  'Name': 'Oreo Biscuit',\n",
              "  'Price': 30,\n",
              "  'Purchase_Year': 2021,\n",
              "  'Quantity': 166},\n",
              " '1020': {'Discount%': 1.7,\n",
              "  'Name': 'Jim-Jam Biscuit',\n",
              "  'Price': 30,\n",
              "  'Purchase_Year': 2021,\n",
              "  'Quantity': 117},\n",
              " '1021': {'Discount%': 3.3,\n",
              "  'Name': 'Hide & Seek',\n",
              "  'Price': 40,\n",
              "  'Purchase_Year': 2021,\n",
              "  'Quantity': 99},\n",
              " '1022': {'Discount%': 3.7,\n",
              "  'Name': 'Dark Fantasy',\n",
              "  'Price': 50,\n",
              "  'Purchase_Year': 2021,\n",
              "  'Quantity': 77},\n",
              " '1023': {'Discount%': 2.2,\n",
              "  'Name': 'Blue Lays',\n",
              "  'Price': 20,\n",
              "  'Purchase_Year': 2021,\n",
              "  'Quantity': 67},\n",
              " '1024': {'Discount%': 9.2,\n",
              "  'Name': 'Green Lays',\n",
              "  'Price': 20,\n",
              "  'Purchase_Year': 2021,\n",
              "  'Quantity': 200},\n",
              " '1025': {'Discount%': 9.5,\n",
              "  'Name': 'Uncle Chips',\n",
              "  'Price': 25,\n",
              "  'Purchase_Year': 2021,\n",
              "  'Quantity': 108},\n",
              " '1026': {'Discount%': 8.7,\n",
              "  'Name': 'Kinder Joy',\n",
              "  'Price': 40,\n",
              "  'Purchase_Year': 2021,\n",
              "  'Quantity': 236},\n",
              " '1027': {'Discount%': 7.8,\n",
              "  'Name': 'Fun Stix',\n",
              "  'Price': 20,\n",
              "  'Purchase_Year': 2021,\n",
              "  'Quantity': 108},\n",
              " '1028': {'Discount%': 2.3,\n",
              "  'Name': 'Pringles',\n",
              "  'Price': 130,\n",
              "  'Purchase_Year': 2021,\n",
              "  'Quantity': 40},\n",
              " '1029': {'Discount%': 8.9,\n",
              "  'Name': 'Kurkure',\n",
              "  'Price': 25,\n",
              "  'Purchase_Year': 2021,\n",
              "  'Quantity': 97},\n",
              " '1030': {'Discount%': 4.9,\n",
              "  'Name': 'Mad Angles',\n",
              "  'Price': 30,\n",
              "  'Purchase_Year': 2021,\n",
              "  'Quantity': 54}}"
            ]
          },
          "metadata": {},
          "execution_count": 10
        }
      ]
    },
    {
      "cell_type": "code",
      "metadata": {
        "id": "HoPyIUVbVu6B"
      },
      "source": [
        ""
      ],
      "execution_count": null,
      "outputs": []
    },
    {
      "cell_type": "markdown",
      "metadata": {
        "id": "4F-hnaYDVtek"
      },
      "source": [
        "# Sales JSON File"
      ]
    },
    {
      "cell_type": "code",
      "metadata": {
        "colab": {
          "base_uri": "https://localhost:8080/"
        },
        "id": "8v4zPNKtK_Fn",
        "outputId": "65e1866c-704a-4fa4-c71a-07c6a9bc0b4e"
      },
      "source": [
        "f = open(\"Sales.json\",\"r\")\n",
        "r = f.read()\n",
        "l = json.loads(r)\n",
        "l"
      ],
      "execution_count": null,
      "outputs": [
        {
          "output_type": "execute_result",
          "data": {
            "text/plain": [
              "{'1': {'Billing Amount: ': 122,\n",
              "  'Cart: ': [['Uncle Chips', '5 * Rs 25 = Rs 125']],\n",
              "  'Date of Purchase: ': 'Fri Sep  3 23:32:49 2021',\n",
              "  'Discount': 3,\n",
              "  'Gross Amount': 125,\n",
              "  'Name: ': 'Bhola'},\n",
              " '10': {'Billing Amount: ': 766,\n",
              "  'Cart: ': [['Bourbon Biscuit', '15 * Rs 30 = Rs 450'],\n",
              "   ['Fun Stix', '16 * Rs 20 = Rs 320']],\n",
              "  'Date of Purchase: ': 'Fri Sep  3 23:49:19 2021',\n",
              "  'Discount': 4,\n",
              "  'Gross Amount': 770,\n",
              "  'Name: ': 'Salman'},\n",
              " '11': {'Billing Amount: ': 9,\n",
              "  'Cart: ': [['Dairy Milk', '1 * Rs 10 = Rs 10']],\n",
              "  'Date of Purchase: ': 'Fri Sep  3 23:51:33 2021',\n",
              "  'Discount': 1,\n",
              "  'Gross Amount': 10,\n",
              "  'Name: ': 'Priya'},\n",
              " '2': {'Billing Amount: ': 2954,\n",
              "  'Cart: ': [['Ferrero Rocher', '5 * Rs 240 = Rs 1200'],\n",
              "   [\"Hershey's Syrup\", '5 * Rs 220 = Rs 1100'],\n",
              "   ['Dark Fantasy', '14 * Rs 50 = Rs 700']],\n",
              "  'Date of Purchase: ': 'Fri Sep  3 23:39:57 2021',\n",
              "  'Discount': 46,\n",
              "  'Gross Amount': 3000,\n",
              "  'Name: ': 'Kartik'},\n",
              " '3': {'Billing Amount: ': 837,\n",
              "  'Cart: ': [['Uncle Chips', '11 * Rs 25 = Rs 275'],\n",
              "   ['Bar-one', '9 * Rs 40 = Rs 360'],\n",
              "   ['Mad Angles', '7 * Rs 30 = Rs 210']],\n",
              "  'Date of Purchase: ': 'Fri Sep  3 23:41:28 2021',\n",
              "  'Discount': 8,\n",
              "  'Gross Amount': 845,\n",
              "  'Name: ': 'Harsh'},\n",
              " '4': {'Billing Amount: ': 665,\n",
              "  'Cart: ': [['Pringles', '1 * Rs 130 = Rs 130'],\n",
              "   ['Oreo Biscuit', '18 * Rs 30 = Rs 540']],\n",
              "  'Date of Purchase: ': 'Fri Sep  3 23:42:26 2021',\n",
              "  'Discount': 5,\n",
              "  'Gross Amount': 670,\n",
              "  'Name: ': 'Riya'},\n",
              " '5': {'Billing Amount: ': 538,\n",
              "  'Cart: ': [['Mad Angles', '18 * Rs 30 = Rs 540']],\n",
              "  'Date of Purchase: ': 'Fri Sep  3 23:43:23 2021',\n",
              "  'Discount': 2,\n",
              "  'Gross Amount': 540,\n",
              "  'Name: ': 'Akash'},\n",
              " '6': {'Billing Amount: ': 179,\n",
              "  'Cart: ': [['Jim-Jam Biscuit', '6 * Rs 30 = Rs 180']],\n",
              "  'Date of Purchase: ': 'Fri Sep  3 23:43:49 2021',\n",
              "  'Discount': 1,\n",
              "  'Gross Amount': 180,\n",
              "  'Name: ': 'Prakash'},\n",
              " '7': {'Billing Amount: ': 5073,\n",
              "  'Cart: ': [['Dark Fantasy', '19 * Rs 50 = Rs 950'],\n",
              "   ['Amul Dark Chocolate', '18 * Rs 90 = Rs 1620'],\n",
              "   ['Hide & Seek', '18 * Rs 40 = Rs 720'],\n",
              "   ['Toblerone', '9 * Rs 200 = Rs 1800']],\n",
              "  'Date of Purchase: ': 'Fri Sep  3 23:45:03 2021',\n",
              "  'Discount': 17,\n",
              "  'Gross Amount': 5090,\n",
              "  'Name: ': 'Sanjana'},\n",
              " '8': {'Billing Amount: ': 3278,\n",
              "  'Cart: ': [[\"Hershey's Syrup\", '15 * Rs 220 = Rs 3300']],\n",
              "  'Date of Purchase: ': 'Fri Sep  3 23:45:41 2021',\n",
              "  'Discount': 22,\n",
              "  'Gross Amount': 3300,\n",
              "  'Name: ': 'Kewal'},\n",
              " '9': {'Billing Amount: ': 2685,\n",
              "  'Cart: ': [['Kit-Kat', '12 * Rs 30 = Rs 360'],\n",
              "   ['Kurkure', '6 * Rs 25 = Rs 150'],\n",
              "   ['5 Star', '12 * Rs 25 = Rs 300'],\n",
              "   ['Cadbury Silk', '18 * Rs 60 = Rs 1080'],\n",
              "   ['Amul Dark Chocolate', '9 * Rs 90 = Rs 810']],\n",
              "  'Date of Purchase: ': 'Fri Sep  3 23:48:04 2021',\n",
              "  'Discount': 15,\n",
              "  'Gross Amount': 2700,\n",
              "  'Name: ': 'Nitish'}}"
            ]
          },
          "metadata": {},
          "execution_count": 11
        }
      ]
    },
    {
      "cell_type": "markdown",
      "metadata": {
        "id": "mjvPzB1kc4Cc"
      },
      "source": [
        "# Updated Sales File"
      ]
    },
    {
      "cell_type": "code",
      "metadata": {
        "id": "f0l6kmLWK_II"
      },
      "source": [
        "sale = json.dumps(l)\n",
        "f = open(\"Sales.json\",\"w\")\n",
        "f.write(sale)\n",
        "f.close()"
      ],
      "execution_count": null,
      "outputs": []
    },
    {
      "cell_type": "code",
      "metadata": {
        "id": "PIMvzdFIK_Kl",
        "colab": {
          "base_uri": "https://localhost:8080/",
          "height": 171
        },
        "outputId": "8d4ae381-4806-4376-a2da-80979b105651"
      },
      "source": [
        "sale"
      ],
      "execution_count": null,
      "outputs": [
        {
          "output_type": "execute_result",
          "data": {
            "application/vnd.google.colaboratory.intrinsic+json": {
              "type": "string"
            },
            "text/plain": [
              "'{\"1\": {\"Name: \": \"Bhola\", \"Cart: \": [[\"Uncle Chips\", \"5 * Rs 25 = Rs 125\"]], \"Gross Amount\": 125, \"Discount\": 3, \"Billing Amount: \": 122, \"Date of Purchase: \": \"Fri Sep  3 23:32:49 2021\"}, \"2\": {\"Name: \": \"Kartik\", \"Cart: \": [[\"Ferrero Rocher\", \"5 * Rs 240 = Rs 1200\"], [\"Hershey\\'s Syrup\", \"5 * Rs 220 = Rs 1100\"], [\"Dark Fantasy\", \"14 * Rs 50 = Rs 700\"]], \"Gross Amount\": 3000, \"Discount\": 46, \"Billing Amount: \": 2954, \"Date of Purchase: \": \"Fri Sep  3 23:39:57 2021\"}, \"3\": {\"Name: \": \"Harsh\", \"Cart: \": [[\"Uncle Chips\", \"11 * Rs 25 = Rs 275\"], [\"Bar-one\", \"9 * Rs 40 = Rs 360\"], [\"Mad Angles\", \"7 * Rs 30 = Rs 210\"]], \"Gross Amount\": 845, \"Discount\": 8, \"Billing Amount: \": 837, \"Date of Purchase: \": \"Fri Sep  3 23:41:28 2021\"}, \"4\": {\"Name: \": \"Riya\", \"Cart: \": [[\"Pringles\", \"1 * Rs 130 = Rs 130\"], [\"Oreo Biscuit\", \"18 * Rs 30 = Rs 540\"]], \"Gross Amount\": 670, \"Discount\": 5, \"Billing Amount: \": 665, \"Date of Purchase: \": \"Fri Sep  3 23:42:26 2021\"}, \"5\": {\"Name: \": \"Akash\", \"Cart: \": [[\"Mad Angles\", \"18 * Rs 30 = Rs 540\"]], \"Gross Amount\": 540, \"Discount\": 2, \"Billing Amount: \": 538, \"Date of Purchase: \": \"Fri Sep  3 23:43:23 2021\"}, \"6\": {\"Name: \": \"Prakash\", \"Cart: \": [[\"Jim-Jam Biscuit\", \"6 * Rs 30 = Rs 180\"]], \"Gross Amount\": 180, \"Discount\": 1, \"Billing Amount: \": 179, \"Date of Purchase: \": \"Fri Sep  3 23:43:49 2021\"}, \"7\": {\"Name: \": \"Sanjana\", \"Cart: \": [[\"Dark Fantasy\", \"19 * Rs 50 = Rs 950\"], [\"Amul Dark Chocolate\", \"18 * Rs 90 = Rs 1620\"], [\"Hide & Seek\", \"18 * Rs 40 = Rs 720\"], [\"Toblerone\", \"9 * Rs 200 = Rs 1800\"]], \"Gross Amount\": 5090, \"Discount\": 17, \"Billing Amount: \": 5073, \"Date of Purchase: \": \"Fri Sep  3 23:45:03 2021\"}, \"8\": {\"Name: \": \"Kewal\", \"Cart: \": [[\"Hershey\\'s Syrup\", \"15 * Rs 220 = Rs 3300\"]], \"Gross Amount\": 3300, \"Discount\": 22, \"Billing Amount: \": 3278, \"Date of Purchase: \": \"Fri Sep  3 23:45:41 2021\"}, \"9\": {\"Name: \": \"Nitish\", \"Cart: \": [[\"Kit-Kat\", \"12 * Rs 30 = Rs 360\"], [\"Kurkure\", \"6 * Rs 25 = Rs 150\"], [\"5 Star\", \"12 * Rs 25 = Rs 300\"], [\"Cadbury Silk\", \"18 * Rs 60 = Rs 1080\"], [\"Amul Dark Chocolate\", \"9 * Rs 90 = Rs 810\"]], \"Gross Amount\": 2700, \"Discount\": 15, \"Billing Amount: \": 2685, \"Date of Purchase: \": \"Fri Sep  3 23:48:04 2021\"}, \"10\": {\"Name: \": \"Salman\", \"Cart: \": [[\"Bourbon Biscuit\", \"15 * Rs 30 = Rs 450\"], [\"Fun Stix\", \"16 * Rs 20 = Rs 320\"]], \"Gross Amount\": 770, \"Discount\": 4, \"Billing Amount: \": 766, \"Date of Purchase: \": \"Fri Sep  3 23:49:19 2021\"}, \"11\": {\"Name: \": \"Priya\", \"Cart: \": [[\"Dairy Milk\", \"1 * Rs 10 = Rs 10\"]], \"Gross Amount\": 10, \"Discount\": 1, \"Billing Amount: \": 9, \"Date of Purchase: \": \"Fri Sep  3 23:51:33 2021\"}}'"
            ]
          },
          "metadata": {},
          "execution_count": 19
        }
      ]
    }
  ]
}